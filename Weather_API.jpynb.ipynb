{
 "cells": [
  {
   "cell_type": "code",
   "execution_count": 1,
   "id": "0405980b",
   "metadata": {},
   "outputs": [],
   "source": [
    "import requests as rs"
   ]
  },
  {
   "cell_type": "code",
   "execution_count": 3,
   "id": "fc118e10",
   "metadata": {},
   "outputs": [],
   "source": [
    "api_key = \"de6cc50721ed4cc7ba653634242802\"\n"
   ]
  },
  {
   "cell_type": "code",
   "execution_count": null,
   "id": "e0beb0b4",
   "metadata": {},
   "outputs": [],
   "source": [
    "city = \"guntur\"\n",
    "url = f\"https://api.weatherapi.com/v1/current.js&q=London "
   ]
  }
 ],
 "metadata": {
  "kernelspec": {
   "display_name": "Python 3 (ipykernel)",
   "language": "python",
   "name": "python3"
  },
  "language_info": {
   "codemirror_mode": {
    "name": "ipython",
    "version": 3
   },
   "file_extension": ".py",
   "mimetype": "text/x-python",
   "name": "python",
   "nbconvert_exporter": "python",
   "pygments_lexer": "ipython3",
   "version": "3.10.9"
  }
 },
 "nbformat": 4,
 "nbformat_minor": 5
}
