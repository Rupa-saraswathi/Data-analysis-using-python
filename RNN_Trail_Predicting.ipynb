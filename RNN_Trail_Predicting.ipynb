{
  "nbformat": 4,
  "nbformat_minor": 0,
  "metadata": {
    "colab": {
      "provenance": [],
      "authorship_tag": "ABX9TyPql8rMrKxwft1h/WD3xqW4",
      "include_colab_link": true
    },
    "kernelspec": {
      "name": "python3",
      "display_name": "Python 3"
    },
    "language_info": {
      "name": "python"
    }
  },
  "cells": [
    {
      "cell_type": "markdown",
      "metadata": {
        "id": "view-in-github",
        "colab_type": "text"
      },
      "source": [
        "<a href=\"https://colab.research.google.com/github/Rupa-saraswathi/Data-analysis-using-python/blob/main/RNN_Trail_Predicting.ipynb\" target=\"_parent\"><img src=\"https://colab.research.google.com/assets/colab-badge.svg\" alt=\"Open In Colab\"/></a>"
      ]
    },
    {
      "cell_type": "code",
      "execution_count": null,
      "metadata": {
        "id": "uXkSOByVUrPZ"
      },
      "outputs": [],
      "source": [
        "import numpy as np\n",
        "from keras.models import Sequential\n",
        "from keras.layers import SimpleRNN,Dense,Embedding\n",
        "from keras.preprocessing.text import Tokenizer\n",
        "from keras.preprocessing.sequence import pad_sequences\n",
        "from keras.utils import to_categorical"
      ]
    },
    {
      "cell_type": "code",
      "source": [
        "#generating some example sequential data\n",
        "sentences = ['I love learning' , 'I love python' , 'I love java' , 'I like you' , 'Recurrent Neural networks are powerful']"
      ],
      "metadata": {
        "id": "JQQ5pHksVy6I"
      },
      "execution_count": null,
      "outputs": []
    },
    {
      "cell_type": "code",
      "source": [
        "#tokenizing the words\n",
        "tokenizer = Tokenizer()\n",
        "tokenizer.fit_on_texts(sentences)\n",
        "total_words = len(tokenizer.word_index) + 1\n",
        "print(total_words)"
      ],
      "metadata": {
        "colab": {
          "base_uri": "https://localhost:8080/"
        },
        "id": "-lNxRYWPW-93",
        "outputId": "a291e7a8-471b-48bc-8b5b-3c723a1004b1"
      },
      "execution_count": null,
      "outputs": [
        {
          "output_type": "stream",
          "name": "stdout",
          "text": [
            "13\n"
          ]
        }
      ]
    },
    {
      "cell_type": "code",
      "source": [
        "#creating input sentences and their corresponding next words\n",
        "input_sequences = []\n",
        "for sentence in sentences:\n",
        "    tokenized_sentence = tokenizer.texts_to_sequences([sentence])[0]\n",
        "    for i in range(1, len(tokenized_sentence)):\n",
        "        n_gram_sequence = tokenized_sentence[:i+1]\n",
        "        input_sequences.append(n_gram_sequence)\n",
        "input_sequences"
      ],
      "metadata": {
        "colab": {
          "base_uri": "https://localhost:8080/"
        },
        "id": "9KC7xdi6YrJ0",
        "outputId": "0bcabb59-9530-44d2-efbd-3257941323b6"
      },
      "execution_count": null,
      "outputs": [
        {
          "output_type": "execute_result",
          "data": {
            "text/plain": [
              "[[1, 2],\n",
              " [1, 2, 3],\n",
              " [1, 2],\n",
              " [1, 2, 4],\n",
              " [1, 2],\n",
              " [1, 2, 5],\n",
              " [1, 6],\n",
              " [1, 6, 7],\n",
              " [8, 9],\n",
              " [8, 9, 10],\n",
              " [8, 9, 10, 11],\n",
              " [8, 9, 10, 11, 12]]"
            ]
          },
          "metadata": {},
          "execution_count": 10
        }
      ]
    },
    {
      "cell_type": "code",
      "source": [
        "#padding sequences for consistent input size\n",
        "max_sequence_length = max([len(seq) for seq in input_sequences])\n",
        "input_sequences = pad_sequences(input_sequences, maxlen=max_sequence_length,padding='pre')\n",
        "input_sequences"
      ],
      "metadata": {
        "colab": {
          "base_uri": "https://localhost:8080/"
        },
        "id": "n4GsMX_WZWJl",
        "outputId": "661787c1-5229-429c-9102-20dbb40086ee"
      },
      "execution_count": null,
      "outputs": [
        {
          "output_type": "execute_result",
          "data": {
            "text/plain": [
              "array([[ 0,  0,  0,  1,  2],\n",
              "       [ 0,  0,  1,  2,  3],\n",
              "       [ 0,  0,  0,  1,  2],\n",
              "       [ 0,  0,  1,  2,  4],\n",
              "       [ 0,  0,  0,  1,  2],\n",
              "       [ 0,  0,  1,  2,  5],\n",
              "       [ 0,  0,  0,  1,  6],\n",
              "       [ 0,  0,  1,  6,  7],\n",
              "       [ 0,  0,  0,  8,  9],\n",
              "       [ 0,  0,  8,  9, 10],\n",
              "       [ 0,  8,  9, 10, 11],\n",
              "       [ 8,  9, 10, 11, 12]], dtype=int32)"
            ]
          },
          "metadata": {},
          "execution_count": 13
        }
      ]
    },
    {
      "cell_type": "code",
      "source": [
        "# Creating input and output data\n",
        "X, y = input_sequences[:, :-1], input_sequences[:, -1]\n",
        "y = to_categorical(y, num_classes=total_words)\n"
      ],
      "metadata": {
        "id": "fkiLIJgSaXEB"
      },
      "execution_count": null,
      "outputs": []
    },
    {
      "cell_type": "code",
      "source": [
        "# Building a simple RNN model\n",
        "model = Sequential()\n",
        "model.add(Embedding(input_dim=total_words, output_dim=50, input_length=max_sequence_length-1))\n",
        "model.add(SimpleRNN(100, return_sequences=True))\n",
        "model.add(SimpleRNN(100))\n",
        "model.add(Dense(total_words, activation='softmax'))\n"
      ],
      "metadata": {
        "id": "O8vFoWUZafnh"
      },
      "execution_count": null,
      "outputs": []
    },
    {
      "cell_type": "code",
      "source": [
        "model.compile(optimizer='adam',loss='categorical_crossentropy',metrics=['accuracy'])\n",
        "#training the\n",
        "model.fit(X,y,epochs=50,verbose=2)"
      ],
      "metadata": {
        "colab": {
          "base_uri": "https://localhost:8080/"
        },
        "id": "3EAgTED1awI0",
        "outputId": "042f314c-0f0e-4da4-bc53-4ffebfc935e3"
      },
      "execution_count": null,
      "outputs": [
        {
          "output_type": "stream",
          "name": "stdout",
          "text": [
            "Epoch 1/50\n",
            "1/1 - 3s - loss: 2.5746 - accuracy: 0.0000e+00 - 3s/epoch - 3s/step\n",
            "Epoch 2/50\n",
            "1/1 - 0s - loss: 2.4725 - accuracy: 0.4167 - 9ms/epoch - 9ms/step\n",
            "Epoch 3/50\n",
            "1/1 - 0s - loss: 2.3787 - accuracy: 0.3333 - 11ms/epoch - 11ms/step\n",
            "Epoch 4/50\n",
            "1/1 - 0s - loss: 2.2884 - accuracy: 0.3333 - 9ms/epoch - 9ms/step\n",
            "Epoch 5/50\n",
            "1/1 - 0s - loss: 2.2006 - accuracy: 0.3333 - 8ms/epoch - 8ms/step\n",
            "Epoch 6/50\n",
            "1/1 - 0s - loss: 2.1169 - accuracy: 0.3333 - 10ms/epoch - 10ms/step\n",
            "Epoch 7/50\n",
            "1/1 - 0s - loss: 2.0411 - accuracy: 0.3333 - 9ms/epoch - 9ms/step\n",
            "Epoch 8/50\n",
            "1/1 - 0s - loss: 1.9750 - accuracy: 0.3333 - 8ms/epoch - 8ms/step\n",
            "Epoch 9/50\n",
            "1/1 - 0s - loss: 1.9141 - accuracy: 0.3333 - 11ms/epoch - 11ms/step\n",
            "Epoch 10/50\n",
            "1/1 - 0s - loss: 1.8496 - accuracy: 0.3333 - 9ms/epoch - 9ms/step\n",
            "Epoch 11/50\n",
            "1/1 - 0s - loss: 1.7779 - accuracy: 0.4167 - 9ms/epoch - 9ms/step\n",
            "Epoch 12/50\n",
            "1/1 - 0s - loss: 1.7032 - accuracy: 0.4167 - 9ms/epoch - 9ms/step\n",
            "Epoch 13/50\n",
            "1/1 - 0s - loss: 1.6328 - accuracy: 0.4167 - 8ms/epoch - 8ms/step\n",
            "Epoch 14/50\n",
            "1/1 - 0s - loss: 1.5721 - accuracy: 0.4167 - 8ms/epoch - 8ms/step\n",
            "Epoch 15/50\n",
            "1/1 - 0s - loss: 1.5216 - accuracy: 0.5000 - 9ms/epoch - 9ms/step\n",
            "Epoch 16/50\n",
            "1/1 - 0s - loss: 1.4776 - accuracy: 0.5833 - 8ms/epoch - 8ms/step\n",
            "Epoch 17/50\n",
            "1/1 - 0s - loss: 1.4353 - accuracy: 0.5833 - 9ms/epoch - 9ms/step\n",
            "Epoch 18/50\n",
            "1/1 - 0s - loss: 1.3922 - accuracy: 0.5833 - 9ms/epoch - 9ms/step\n",
            "Epoch 19/50\n",
            "1/1 - 0s - loss: 1.3494 - accuracy: 0.5833 - 8ms/epoch - 8ms/step\n",
            "Epoch 20/50\n",
            "1/1 - 0s - loss: 1.3095 - accuracy: 0.5833 - 8ms/epoch - 8ms/step\n",
            "Epoch 21/50\n",
            "1/1 - 0s - loss: 1.2734 - accuracy: 0.5833 - 8ms/epoch - 8ms/step\n",
            "Epoch 22/50\n",
            "1/1 - 0s - loss: 1.2385 - accuracy: 0.6667 - 9ms/epoch - 9ms/step\n",
            "Epoch 23/50\n",
            "1/1 - 0s - loss: 1.2020 - accuracy: 0.6667 - 8ms/epoch - 8ms/step\n",
            "Epoch 24/50\n",
            "1/1 - 0s - loss: 1.1639 - accuracy: 0.5833 - 7ms/epoch - 7ms/step\n",
            "Epoch 25/50\n",
            "1/1 - 0s - loss: 1.1269 - accuracy: 0.5833 - 8ms/epoch - 8ms/step\n",
            "Epoch 26/50\n",
            "1/1 - 0s - loss: 1.0924 - accuracy: 0.6667 - 8ms/epoch - 8ms/step\n",
            "Epoch 27/50\n",
            "1/1 - 0s - loss: 1.0592 - accuracy: 0.6667 - 8ms/epoch - 8ms/step\n",
            "Epoch 28/50\n",
            "1/1 - 0s - loss: 1.0253 - accuracy: 0.6667 - 8ms/epoch - 8ms/step\n",
            "Epoch 29/50\n",
            "1/1 - 0s - loss: 0.9910 - accuracy: 0.6667 - 8ms/epoch - 8ms/step\n",
            "Epoch 30/50\n",
            "1/1 - 0s - loss: 0.9583 - accuracy: 0.6667 - 9ms/epoch - 9ms/step\n",
            "Epoch 31/50\n",
            "1/1 - 0s - loss: 0.9289 - accuracy: 0.6667 - 8ms/epoch - 8ms/step\n",
            "Epoch 32/50\n",
            "1/1 - 0s - loss: 0.9028 - accuracy: 0.6667 - 9ms/epoch - 9ms/step\n",
            "Epoch 33/50\n",
            "1/1 - 0s - loss: 0.8786 - accuracy: 0.6667 - 8ms/epoch - 8ms/step\n",
            "Epoch 34/50\n",
            "1/1 - 0s - loss: 0.8553 - accuracy: 0.6667 - 8ms/epoch - 8ms/step\n",
            "Epoch 35/50\n",
            "1/1 - 0s - loss: 0.8333 - accuracy: 0.6667 - 8ms/epoch - 8ms/step\n",
            "Epoch 36/50\n",
            "1/1 - 0s - loss: 0.8131 - accuracy: 0.7500 - 8ms/epoch - 8ms/step\n",
            "Epoch 37/50\n",
            "1/1 - 0s - loss: 0.7950 - accuracy: 0.7500 - 8ms/epoch - 8ms/step\n",
            "Epoch 38/50\n",
            "1/1 - 0s - loss: 0.7787 - accuracy: 0.7500 - 17ms/epoch - 17ms/step\n",
            "Epoch 39/50\n",
            "1/1 - 0s - loss: 0.7634 - accuracy: 0.7500 - 16ms/epoch - 16ms/step\n",
            "Epoch 40/50\n",
            "1/1 - 0s - loss: 0.7486 - accuracy: 0.7500 - 10ms/epoch - 10ms/step\n",
            "Epoch 41/50\n",
            "1/1 - 0s - loss: 0.7342 - accuracy: 0.7500 - 10ms/epoch - 10ms/step\n",
            "Epoch 42/50\n",
            "1/1 - 0s - loss: 0.7204 - accuracy: 0.7500 - 9ms/epoch - 9ms/step\n",
            "Epoch 43/50\n",
            "1/1 - 0s - loss: 0.7074 - accuracy: 0.7500 - 8ms/epoch - 8ms/step\n",
            "Epoch 44/50\n",
            "1/1 - 0s - loss: 0.6952 - accuracy: 0.7500 - 8ms/epoch - 8ms/step\n",
            "Epoch 45/50\n",
            "1/1 - 0s - loss: 0.6834 - accuracy: 0.7500 - 9ms/epoch - 9ms/step\n",
            "Epoch 46/50\n",
            "1/1 - 0s - loss: 0.6719 - accuracy: 0.7500 - 10ms/epoch - 10ms/step\n",
            "Epoch 47/50\n",
            "1/1 - 0s - loss: 0.6606 - accuracy: 0.7500 - 9ms/epoch - 9ms/step\n",
            "Epoch 48/50\n",
            "1/1 - 0s - loss: 0.6497 - accuracy: 0.7500 - 9ms/epoch - 9ms/step\n",
            "Epoch 49/50\n",
            "1/1 - 0s - loss: 0.6392 - accuracy: 0.7500 - 9ms/epoch - 9ms/step\n",
            "Epoch 50/50\n",
            "1/1 - 0s - loss: 0.6291 - accuracy: 0.7500 - 9ms/epoch - 9ms/step\n"
          ]
        },
        {
          "output_type": "execute_result",
          "data": {
            "text/plain": [
              "<keras.src.callbacks.History at 0x7c48fb650910>"
            ]
          },
          "metadata": {},
          "execution_count": 23
        }
      ]
    },
    {
      "cell_type": "code",
      "source": [
        "#Test:\n",
        "# Generating text using the trained model\n",
        "seed_text = input(\"Enter the starting word: \")\n",
        "next_words = int(input(\"Enter how many words to predict: \"))\n",
        "\n",
        "for _ in range(next_words):\n",
        "    tokenized_seed = tokenizer.texts_to_sequences([seed_text])[0]\n",
        "    tokenized_seed = pad_sequences([tokenized_seed], maxlen=max_sequence_length-1, padding='pre')\n",
        "    predicted_word_index = np.argmax(model.predict(tokenized_seed), axis=-1)\n",
        "    predicted_word = tokenizer.index_word[predicted_word_index[0]]\n",
        "    seed_text += \" \" + predicted_word\n",
        "\n",
        "print(seed_text)"
      ],
      "metadata": {
        "colab": {
          "base_uri": "https://localhost:8080/"
        },
        "id": "gYUiklNlb_Y2",
        "outputId": "73d04a42-3d4f-427b-f71f-02a9f9394c34"
      },
      "execution_count": null,
      "outputs": [
        {
          "output_type": "stream",
          "name": "stdout",
          "text": [
            "Enter the starting word: love\n",
            "Enter how many words to predict: 3\n",
            "1/1 [==============================] - 0s 21ms/step\n",
            "1/1 [==============================] - 0s 19ms/step\n",
            "1/1 [==============================] - 0s 19ms/step\n",
            "love neural networks are\n"
          ]
        }
      ]
    },
    {
      "cell_type": "code",
      "source": [],
      "metadata": {
        "id": "JxV0HhT_blwN"
      },
      "execution_count": null,
      "outputs": []
    }
  ]
}