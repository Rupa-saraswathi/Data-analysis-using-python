{
  "nbformat": 4,
  "nbformat_minor": 0,
  "metadata": {
    "colab": {
      "provenance": [],
      "mount_file_id": "166bdnWedrim8TUeMK1ZF6vlUz4Yha0Ul",
      "authorship_tag": "ABX9TyNkK/yROJdewwXKVmmEpR5f",
      "include_colab_link": true
    },
    "kernelspec": {
      "name": "python3",
      "display_name": "Python 3"
    },
    "language_info": {
      "name": "python"
    }
  },
  "cells": [
    {
      "cell_type": "markdown",
      "metadata": {
        "id": "view-in-github",
        "colab_type": "text"
      },
      "source": [
        "<a href=\"https://colab.research.google.com/github/Rupa-saraswathi/Data-analysis-using-python/blob/main/DAY8.ipynb\" target=\"_parent\"><img src=\"https://colab.research.google.com/assets/colab-badge.svg\" alt=\"Open In Colab\"/></a>"
      ]
    },
    {
      "cell_type": "code",
      "execution_count": null,
      "metadata": {
        "id": "CLTjQbOgdkuw",
        "colab": {
          "base_uri": "https://localhost:8080/"
        },
        "outputId": "9fb8b199-25fd-47e9-ddf0-1607b3632a4a"
      },
      "outputs": [
        {
          "output_type": "stream",
          "name": "stdout",
          "text": [
            "1/1 [==============================] - 0s 107ms/step\n",
            "[[0.]]\n"
          ]
        }
      ],
      "source": [
        "\n",
        "from tensorflow.keras.models import load_model\n",
        "from tensorflow.keras.preprocessing import image\n",
        "import numpy as np\n",
        "\n",
        "#load the saved  model\n",
        "model = load_model('/content/drive/MyDrive/Model.h5')\n",
        "\n",
        "# load and preprocess the text image\n",
        "test_image_path = (\"/content/pred23.jpg\")\n",
        "img = image.load_img(test_image_path,target_size=(224,224))\n",
        "img_array = image.img_to_array(img)\n",
        "img_array = np.expand_dims(img_array,axis=0)\n",
        "\n",
        "#add batch dimensions\n",
        "img_array /=255,    #normalize the pixel values\n",
        "#make predictions\n",
        "prediction = model.predict(img_array)\n",
        "#print the prediction\n",
        "print(prediction)"
      ]
    },
    {
      "cell_type": "code",
      "source": [
        "if prediction < 0.5:\n",
        "  print(\"Prediction :  no tumour (probability:\",prediction[0][0])\n",
        "else:\n",
        "  print(\"Prediction :   tumour present (probability:\",prediction[0][0])"
      ],
      "metadata": {
        "colab": {
          "base_uri": "https://localhost:8080/"
        },
        "id": "V7MQZj-KoOYv",
        "outputId": "2457d587-a191-451c-9065-c261792d9e84"
      },
      "execution_count": null,
      "outputs": [
        {
          "output_type": "stream",
          "name": "stdout",
          "text": [
            "Prediction :  no tumour (probability: 0.0\n"
          ]
        }
      ]
    },
    {
      "cell_type": "code",
      "source": [],
      "metadata": {
        "id": "IB1z7741VRFT"
      },
      "execution_count": null,
      "outputs": []
    },
    {
      "cell_type": "code",
      "source": [
        "#yes\n",
        "from tensorflow.keras.models import load_model\n",
        "from tensorflow.keras.preprocessing import image\n",
        "import numpy as np\n",
        "\n",
        "#load the saved  model\n",
        "model = load_model('/content/drive/MyDrive/Model.h5')\n",
        "\n",
        "# load and preprocess the text image\n",
        "test_image_path = (\"/content/drive/MyDrive/Brain_Tumor_Detection/Train/yes/y1044.jpg\")\n",
        "img = image.load_img(test_image_path,target_size=(224,224))\n",
        "img_array = image.img_to_array(img)\n",
        "img_array = np.expand_dims(img_array,axis=0)\n",
        "\n",
        "#add batch dimensions\n",
        "img_array /=255,    #normalize the pixel values\n",
        "#make predictions\n",
        "prediction = model.predict(img_array)\n",
        "#print the prediction\n",
        "print(prediction)"
      ],
      "metadata": {
        "colab": {
          "base_uri": "https://localhost:8080/"
        },
        "id": "_MS1PiVrnU29",
        "outputId": "3c22ea4e-08e4-4101-b0a2-1240bb198b47"
      },
      "execution_count": null,
      "outputs": [
        {
          "output_type": "stream",
          "name": "stdout",
          "text": [
            "1/1 [==============================] - 0s 169ms/step\n",
            "[[0.]]\n"
          ]
        }
      ]
    },
    {
      "cell_type": "code",
      "source": [
        "if prediction < 0.5:\n",
        "  print(\"Prediction :  no tumour (probability:\",prediction[0][0])\n",
        "else:\n",
        "  print(\"Prediction :   tumour present (probability:\",prediction[0][0])"
      ],
      "metadata": {
        "colab": {
          "base_uri": "https://localhost:8080/"
        },
        "id": "kzOWzyDpVStw",
        "outputId": "ce4d5984-c0a8-410e-ccf5-f4090f71594a"
      },
      "execution_count": null,
      "outputs": [
        {
          "output_type": "stream",
          "name": "stdout",
          "text": [
            "Prediction :  no tumour (probability: 0.0\n"
          ]
        }
      ]
    },
    {
      "cell_type": "code",
      "source": [
        "#no\n",
        "from tensorflow.keras.models import load_model\n",
        "from tensorflow.keras.preprocessing import image\n",
        "import numpy as np\n",
        "\n",
        "#load the saved  model\n",
        "model = load_model('/content/drive/MyDrive/Model.h5')\n",
        "\n",
        "# load and preprocess the text image\n",
        "test_image_path = (\"/content/no145.jpg\")\n",
        "img = image.load_img(test_image_path,target_size=(224,224))\n",
        "img_array = image.img_to_array(img)\n",
        "img_array = np.expand_dims(img_array,axis=0)\n",
        "\n",
        "#add batch dimensions\n",
        "img_array /=255,    #normalize the pixel values\n",
        "#make predictions\n",
        "prediction = model.predict(img_array)\n",
        "#print the prediction\n",
        "print(prediction)"
      ],
      "metadata": {
        "colab": {
          "base_uri": "https://localhost:8080/"
        },
        "id": "Uy6ONaauZO-t",
        "outputId": "90b20a53-4c9f-4a8f-ae93-3551bc8e621f"
      },
      "execution_count": null,
      "outputs": [
        {
          "output_type": "stream",
          "name": "stdout",
          "text": [
            "1/1 [==============================] - 0s 284ms/step\n",
            "[[0.]]\n"
          ]
        }
      ]
    },
    {
      "cell_type": "code",
      "source": [
        "if prediction < 0.5:\n",
        "  print(\"Prediction :  no tumour (probability:\",prediction[0][0])\n",
        "else:\n",
        "  print(\"Prediction :   tumour present (probability:\",prediction[0][0])"
      ],
      "metadata": {
        "colab": {
          "base_uri": "https://localhost:8080/"
        },
        "id": "TxjBmrIxaDsQ",
        "outputId": "67101ad3-f580-4893-9936-139e3d848e58"
      },
      "execution_count": null,
      "outputs": [
        {
          "output_type": "stream",
          "name": "stdout",
          "text": [
            "Prediction :  no tumour (probability: 0.0\n"
          ]
        }
      ]
    },
    {
      "cell_type": "code",
      "source": [
        "#pred\n",
        "from tensorflow.keras.models import load_model\n",
        "from tensorflow.keras.preprocessing import image\n",
        "import numpy as np\n",
        "\n",
        "#load the saved  model\n",
        "model = load_model('/content/drive/MyDrive/Model.h5')\n",
        "\n",
        "# load and preprocess the text image\n",
        "test_image_path = (\"/content/drive/MyDrive/Brain_Tumor_Detection/Test/pred/pred0.jpg\")\n",
        "img = image.load_img(test_image_path,target_size=(224,224))\n",
        "img_array = image.img_to_array(img)\n",
        "img_array = np.expand_dims(img_array,axis=0)\n",
        "\n",
        "#add batch dimensions\n",
        "img_array /=255,    #normalize the pixel values\n",
        "#make predictions\n",
        "prediction = model.predict(img_array)\n",
        "#print the prediction\n",
        "print(prediction)"
      ],
      "metadata": {
        "colab": {
          "base_uri": "https://localhost:8080/"
        },
        "id": "BHJjW_vJdJmH",
        "outputId": "39121995-94a9-40b3-93c8-42dab401539f"
      },
      "execution_count": null,
      "outputs": [
        {
          "output_type": "stream",
          "name": "stdout",
          "text": [
            "1/1 [==============================] - 0s 104ms/step\n",
            "[[0.]]\n"
          ]
        }
      ]
    },
    {
      "cell_type": "code",
      "source": [
        "if prediction < 0.5:\n",
        "  print(\"Prediction :  no tumour (probability:\",prediction[0][0])\n",
        "else:\n",
        "  print(\"Prediction :   tumour present (probability:\",prediction[0][0])"
      ],
      "metadata": {
        "colab": {
          "base_uri": "https://localhost:8080/"
        },
        "id": "W2_05KzBdc73",
        "outputId": "de8a665b-c0fc-40ab-a2b4-e2e5a451fed2"
      },
      "execution_count": null,
      "outputs": [
        {
          "output_type": "stream",
          "name": "stdout",
          "text": [
            "Prediction :  no tumour (probability: 0.0\n"
          ]
        }
      ]
    }
  ]
}