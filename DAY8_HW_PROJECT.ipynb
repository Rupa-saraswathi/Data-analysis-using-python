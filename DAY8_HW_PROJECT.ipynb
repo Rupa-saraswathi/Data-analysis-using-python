{
  "cells": [
    {
      "cell_type": "markdown",
      "metadata": {
        "id": "view-in-github",
        "colab_type": "text"
      },
      "source": [
        "<a href=\"https://colab.research.google.com/github/Rupa-saraswathi/Data-analysis-using-python/blob/main/DAY8_HW_PROJECT.ipynb\" target=\"_parent\"><img src=\"https://colab.research.google.com/assets/colab-badge.svg\" alt=\"Open In Colab\"/></a>"
      ]
    },
    {
      "cell_type": "code",
      "execution_count": null,
      "metadata": {
        "id": "FVjnUZxsf0pf"
      },
      "outputs": [],
      "source": [
        "import tensorflow as tf\n",
        "from tensorflow import keras\n",
        "from tensorflow.keras import layers\n",
        "from tensorflow.keras.preprocessing.image import ImageDataGenerator"
      ]
    },
    {
      "cell_type": "code",
      "execution_count": null,
      "metadata": {
        "id": "W7-uSoJ-i3Gi"
      },
      "outputs": [],
      "source": [
        "#define image size and batch size\n",
        "IMG_SIZE = 224\n",
        "BATCH_SIZE = 32"
      ]
    },
    {
      "cell_type": "code",
      "execution_count": null,
      "metadata": {
        "id": "W-vbiy6Mi6sR"
      },
      "outputs": [],
      "source": [
        "#creating training data parameters\n",
        "train_datagen = ImageDataGenerator(\n",
        "    rescale=1./255,\n",
        "    validation_split = 0.2\n",
        ")"
      ]
    },
    {
      "cell_type": "code",
      "execution_count": null,
      "metadata": {
        "colab": {
          "base_uri": "https://localhost:8080/"
        },
        "id": "pYd4l1XEi9sP",
        "outputId": "c3d8acb7-a4bb-4263-d7b4-7ac74cdcdba4"
      },
      "outputs": [
        {
          "name": "stdout",
          "output_type": "stream",
          "text": [
            "Found 56 images belonging to 2 classes.\n"
          ]
        }
      ],
      "source": [
        "#creating traing data with above parameters\n",
        "#folder = parameters,flow_from_directory(path,ts,bs,cm,subset)\n",
        "train_generator = train_datagen.flow_from_directory(\n",
        "    r\"/content/drive/MyDrive/PNEUMONIA/chest_xray/train\",\n",
        "     target_size = (IMG_SIZE,IMG_SIZE),\n",
        "    batch_size = BATCH_SIZE,\n",
        "    class_mode = 'binary',\n",
        "    subset = 'training')"
      ]
    },
    {
      "cell_type": "code",
      "execution_count": null,
      "metadata": {
        "colab": {
          "base_uri": "https://localhost:8080/"
        },
        "id": "3HaStXQPklXL",
        "outputId": "32e0fb83-98b0-420d-ab77-d2f234e4084c"
      },
      "outputs": [
        {
          "name": "stdout",
          "output_type": "stream",
          "text": [
            "Found 12 images belonging to 2 classes.\n"
          ]
        }
      ],
      "source": [
        "#creating validation data!\n",
        "val_generator = train_datagen.flow_from_directory(r'/content/drive/MyDrive/PNEUMONIA/chest_xray/train',\n",
        "      target_size = (IMG_SIZE,IMG_SIZE),\n",
        "      batch_size = BATCH_SIZE,\n",
        "      class_mode = 'binary',\n",
        "      subset = 'validation')"
      ]
    },
    {
      "cell_type": "code",
      "execution_count": null,
      "metadata": {
        "id": "0K2mzF-qkrT-"
      },
      "outputs": [],
      "source": [
        "#Define the model\n",
        "model = keras.Sequential([\n",
        "    layers.Conv2D(32,(3,3), activation='relu', input_shape=(IMG_SIZE, IMG_SIZE,3)),\n",
        "    layers.MaxPooling2D((2,2)),\n",
        "    layers.Conv2D(64,(3,3), activation='relu'),\n",
        "    layers.MaxPooling2D((2,2)),\n",
        "    layers.Conv2D(128,(3,3), activation='relu'),\n",
        "    layers.MaxPooling2D((2,2)),\n",
        "    layers.Flatten(),\n",
        "    layers.Dense(128,activation='relu'),\n",
        "    layers.Dense(1,activation='sigmoid')\n",
        "])"
      ]
    },
    {
      "cell_type": "code",
      "execution_count": null,
      "metadata": {
        "id": "7j1k-XSDkrgv"
      },
      "outputs": [],
      "source": [
        "model.compile(optimizer='adam',loss='categorical_crossentropy',metrics=['accuracy'])"
      ]
    },
    {
      "cell_type": "code",
      "execution_count": null,
      "metadata": {
        "colab": {
          "base_uri": "https://localhost:8080/"
        },
        "id": "yjjayHzvk8G8",
        "outputId": "b47b717d-e3cc-485c-a84c-c242cfdd5b78"
      },
      "outputs": [
        {
          "name": "stdout",
          "output_type": "stream",
          "text": [
            "Epoch 1/5\n"
          ]
        },
        {
          "name": "stderr",
          "output_type": "stream",
          "text": [
            "/usr/local/lib/python3.10/dist-packages/tensorflow/python/util/dispatch.py:1260: SyntaxWarning: In loss categorical_crossentropy, expected y_pred.shape to be (batch_size, num_classes) with num_classes > 1. Received: y_pred.shape=(None, 1). Consider using 'binary_crossentropy' if you only have 2 classes.\n",
            "  return dispatch_target(*args, **kwargs)\n"
          ]
        },
        {
          "name": "stdout",
          "output_type": "stream",
          "text": [
            "2/2 [==============================] - 19s 7s/step - loss: 0.0000e+00 - accuracy: 0.0714 - val_loss: 0.0000e+00 - val_accuracy: 0.0000e+00\n",
            "Epoch 2/5\n"
          ]
        }
      ],
      "source": [
        "model.fit(train_generator,validation_data=val_generator,epochs=5)"
      ]
    },
    {
      "cell_type": "code",
      "execution_count": null,
      "metadata": {
        "colab": {
          "background_save": true
        },
        "id": "trqnglrpk8UO",
        "outputId": "2e705746-e2bb-4d03-bacb-a0fd333a49b1"
      },
      "outputs": [
        {
          "name": "stderr",
          "output_type": "stream",
          "text": [
            "/usr/local/lib/python3.10/dist-packages/keras/src/engine/training.py:3103: UserWarning: You are saving your model as an HDF5 file via `model.save()`. This file format is considered legacy. We recommend using instead the native Keras format, e.g. `model.save('my_model.keras')`.\n",
            "  saving_api.save_model(\n"
          ]
        }
      ],
      "source": [
        "model.save(\"Model.h5\",\"label.txt\")"
      ]
    }
  ],
  "metadata": {
    "colab": {
      "provenance": [],
      "mount_file_id": "1JGb2w_F4323oX3tW-Yt7BkCHTxoIz-d9",
      "authorship_tag": "ABX9TyOi68yf+9wfERSRNbdpHxky",
      "include_colab_link": true
    },
    "kernelspec": {
      "display_name": "Python 3",
      "name": "python3"
    },
    "language_info": {
      "name": "python"
    }
  },
  "nbformat": 4,
  "nbformat_minor": 0
}