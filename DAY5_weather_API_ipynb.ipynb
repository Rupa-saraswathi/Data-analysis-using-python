{
  "nbformat": 4,
  "nbformat_minor": 0,
  "metadata": {
    "colab": {
      "provenance": [],
      "authorship_tag": "ABX9TyNGDEav2WNHt0cCptMGdkSj",
      "include_colab_link": true
    },
    "kernelspec": {
      "name": "python3",
      "display_name": "Python 3"
    },
    "language_info": {
      "name": "python"
    }
  },
  "cells": [
    {
      "cell_type": "markdown",
      "metadata": {
        "id": "view-in-github",
        "colab_type": "text"
      },
      "source": [
        "<a href=\"https://colab.research.google.com/github/Rupa-saraswathi/Data-analysis-using-python/blob/main/DAY5_weather_API_ipynb.ipynb\" target=\"_parent\"><img src=\"https://colab.research.google.com/assets/colab-badge.svg\" alt=\"Open In Colab\"/></a>"
      ]
    },
    {
      "cell_type": "code",
      "execution_count": null,
      "metadata": {
        "id": "JCFLnNMbQmc9"
      },
      "outputs": [],
      "source": [
        "import requests as rs"
      ]
    },
    {
      "cell_type": "code",
      "source": [
        "api_key=\" de6cc50721ed4cc7ba653634242802\"\n",
        "city = \" madurai\"\n",
        "url = f\"https://api.weatherapi.com/v1/current.json?key={api_key}&q={city}\"\n",
        "response = rs.get(url)\n",
        "data = response.json()\n",
        "print(data)"
      ],
      "metadata": {
        "colab": {
          "base_uri": "https://localhost:8080/"
        },
        "id": "rVP4Xx0QQx5f",
        "outputId": "b001481a-d811-4d6c-80cb-61c9b9e3fddc"
      },
      "execution_count": null,
      "outputs": [
        {
          "output_type": "stream",
          "name": "stdout",
          "text": [
            "{'location': {'name': 'Madurai', 'region': 'Tamil Nadu', 'country': 'India', 'lat': 9.93, 'lon': 78.12, 'tz_id': 'Asia/Kolkata', 'localtime_epoch': 1709398194, 'localtime': '2024-03-02 22:19'}, 'current': {'last_updated_epoch': 1709397900, 'last_updated': '2024-03-02 22:15', 'temp_c': 25.4, 'temp_f': 77.8, 'is_day': 0, 'condition': {'text': 'Clear ', 'icon': '//cdn.weatherapi.com/weather/64x64/night/113.png', 'code': 1000}, 'wind_mph': 4.9, 'wind_kph': 7.9, 'wind_degree': 58, 'wind_dir': 'ENE', 'pressure_mb': 1014.0, 'pressure_in': 29.93, 'precip_mm': 0.0, 'precip_in': 0.0, 'humidity': 58, 'cloud': 4, 'feelslike_c': 26.5, 'feelslike_f': 79.7, 'vis_km': 10.0, 'vis_miles': 6.0, 'uv': 1.0, 'gust_mph': 8.8, 'gust_kph': 14.1}}\n"
          ]
        }
      ]
    },
    {
      "cell_type": "code",
      "source": [
        "type(data)"
      ],
      "metadata": {
        "colab": {
          "base_uri": "https://localhost:8080/"
        },
        "id": "9Gh4ClQ6SJl9",
        "outputId": "88518633-5487-4537-b986-0f63d7e78172"
      },
      "execution_count": null,
      "outputs": [
        {
          "output_type": "execute_result",
          "data": {
            "text/plain": [
              "dict"
            ]
          },
          "metadata": {},
          "execution_count": 3
        }
      ]
    },
    {
      "cell_type": "code",
      "source": [
        "print(\"City:\" ,data['location']['name'])"
      ],
      "metadata": {
        "colab": {
          "base_uri": "https://localhost:8080/"
        },
        "id": "tMfatXlxSYki",
        "outputId": "28d42b8f-0e05-4335-9d37-26f407318ea8"
      },
      "execution_count": null,
      "outputs": [
        {
          "output_type": "stream",
          "name": "stdout",
          "text": [
            "City: Madurai\n"
          ]
        }
      ]
    },
    {
      "cell_type": "code",
      "source": [
        "print(\"State:\" ,data['location']['region'])"
      ],
      "metadata": {
        "colab": {
          "base_uri": "https://localhost:8080/"
        },
        "id": "BbMUx-TfTHXE",
        "outputId": "69ed201b-055c-431a-d22e-c88fb1b43ddd"
      },
      "execution_count": null,
      "outputs": [
        {
          "output_type": "stream",
          "name": "stdout",
          "text": [
            "State: Tamil Nadu\n"
          ]
        }
      ]
    },
    {
      "cell_type": "code",
      "source": [
        "print(\"Country:\" ,data['location']['country'])"
      ],
      "metadata": {
        "colab": {
          "base_uri": "https://localhost:8080/"
        },
        "id": "2vIL6KJ0TPL7",
        "outputId": "f9c6f60b-55a0-4f10-ee50-2b0dd8e307ea"
      },
      "execution_count": null,
      "outputs": [
        {
          "output_type": "stream",
          "name": "stdout",
          "text": [
            "Country: India\n"
          ]
        }
      ]
    },
    {
      "cell_type": "code",
      "source": [
        "print(\"Temperature in C:\" ,data['current']['temp_c'])"
      ],
      "metadata": {
        "colab": {
          "base_uri": "https://localhost:8080/"
        },
        "id": "70RjU_2eTXYq",
        "outputId": "dfb0a02d-8071-42e2-f699-2b3384c0d0bd"
      },
      "execution_count": null,
      "outputs": [
        {
          "output_type": "stream",
          "name": "stdout",
          "text": [
            "Temperature in C: 25.4\n"
          ]
        }
      ]
    },
    {
      "cell_type": "code",
      "source": [
        "print(\"feels:\" ,data['current']['feelslike_c'])"
      ],
      "metadata": {
        "colab": {
          "base_uri": "https://localhost:8080/"
        },
        "id": "vU9kYKtUTl6y",
        "outputId": "db208112-f21f-489b-83f7-727d80b1da21"
      },
      "execution_count": null,
      "outputs": [
        {
          "output_type": "stream",
          "name": "stdout",
          "text": [
            "feels: 26.5\n"
          ]
        }
      ]
    },
    {
      "cell_type": "code",
      "source": [
        "print(\"Wind direction:\" ,data['current']['wind_dir'])"
      ],
      "metadata": {
        "colab": {
          "base_uri": "https://localhost:8080/"
        },
        "id": "rah_cRgyU_WR",
        "outputId": "106c98f6-3808-47d8-cff0-d99e01cfe47f"
      },
      "execution_count": null,
      "outputs": [
        {
          "output_type": "stream",
          "name": "stdout",
          "text": [
            "Wind direction: ENE\n"
          ]
        }
      ]
    },
    {
      "cell_type": "code",
      "source": [
        "print(\"wind:\" ,data['current']['wind_mph'])"
      ],
      "metadata": {
        "colab": {
          "base_uri": "https://localhost:8080/"
        },
        "id": "HS7ePXHDVIz_",
        "outputId": "208bd03d-6151-4ea7-9fd5-621385d5b675"
      },
      "execution_count": null,
      "outputs": [
        {
          "output_type": "stream",
          "name": "stdout",
          "text": [
            "wind: 4.9\n"
          ]
        }
      ]
    },
    {
      "cell_type": "code",
      "source": [
        "print(\"humidity:\" ,data['current']['humidity'])"
      ],
      "metadata": {
        "colab": {
          "base_uri": "https://localhost:8080/"
        },
        "id": "kaGcEoRHVenm",
        "outputId": "c8a246a0-8178-47a4-d05c-639ae528debb"
      },
      "execution_count": null,
      "outputs": [
        {
          "output_type": "stream",
          "name": "stdout",
          "text": [
            "humidity: 58\n"
          ]
        }
      ]
    },
    {
      "cell_type": "code",
      "source": [
        "print(\"cloud:\" ,data['current']['cloud'])"
      ],
      "metadata": {
        "colab": {
          "base_uri": "https://localhost:8080/"
        },
        "id": "xL1Az51sWJBD",
        "outputId": "bf644143-effc-4977-961b-bf03842d4c76"
      },
      "execution_count": null,
      "outputs": [
        {
          "output_type": "stream",
          "name": "stdout",
          "text": [
            "cloud: 4\n"
          ]
        }
      ]
    },
    {
      "cell_type": "code",
      "source": [
        "city = input(\"enter city name \")\n",
        "api_key=\" de6cc50721ed4cc7ba653634242802\"\n",
        "url = f\"https://api.weatherapi.com/v1/current.json?key={api_key}&q={city}\"\n",
        "response = rs.get(url)\n",
        "data = response.json()\n",
        "print(data)\n",
        "print(type(data))\n",
        "\n",
        "if response.status_code == 200:\n",
        "#printing..\n",
        "  print(f\"weather in {city}:\")\n",
        "  print(\"City:\" ,data['location']['name'])\n",
        "  print(\"State:\" ,data['location']['region'])\n",
        "  print(\"Country:\" ,data['location']['country'])\n",
        "  print(\"Temperature in C:\" ,data['current']['temp_c'])\n",
        "  print(\"feels:\" ,data['current']['feelslike_c'])\n",
        "  print(\"Wind direction:\" ,data['current']['wind_dir'])\n",
        "  print(\"wind:\" ,data['current']['wind_mph'])\n",
        "  print(\"humidity:\" ,data['current']['humidity'])\n",
        "  print(\"cloud:\" ,data['current']['cloud'])\n",
        "else :\n",
        "  print( data['error']['message'])"
      ],
      "metadata": {
        "colab": {
          "base_uri": "https://localhost:8080/"
        },
        "id": "_wfHhx7iWAF2",
        "outputId": "4a20ce94-fc51-4fe1-d60d-02cf33d10f37"
      },
      "execution_count": null,
      "outputs": [
        {
          "output_type": "stream",
          "name": "stdout",
          "text": [
            "enter city name madurai\n",
            "{'location': {'name': 'Madurai', 'region': 'Tamil Nadu', 'country': 'India', 'lat': 9.93, 'lon': 78.12, 'tz_id': 'Asia/Kolkata', 'localtime_epoch': 1709398144, 'localtime': '2024-03-02 22:19'}, 'current': {'last_updated_epoch': 1709397900, 'last_updated': '2024-03-02 22:15', 'temp_c': 25.4, 'temp_f': 77.8, 'is_day': 0, 'condition': {'text': 'Clear ', 'icon': '//cdn.weatherapi.com/weather/64x64/night/113.png', 'code': 1000}, 'wind_mph': 4.9, 'wind_kph': 7.9, 'wind_degree': 58, 'wind_dir': 'ENE', 'pressure_mb': 1014.0, 'pressure_in': 29.93, 'precip_mm': 0.0, 'precip_in': 0.0, 'humidity': 58, 'cloud': 4, 'feelslike_c': 26.5, 'feelslike_f': 79.7, 'vis_km': 10.0, 'vis_miles': 6.0, 'uv': 1.0, 'gust_mph': 8.8, 'gust_kph': 14.1}}\n",
            "<class 'dict'>\n",
            "weather in madurai:\n",
            "City: Madurai\n",
            "State: Tamil Nadu\n",
            "Country: India\n",
            "Temperature in C: 25.4\n",
            "feels: 26.5\n",
            "Wind direction: ENE\n",
            "wind: 4.9\n",
            "humidity: 58\n",
            "cloud: 4\n"
          ]
        }
      ]
    }
  ]
}