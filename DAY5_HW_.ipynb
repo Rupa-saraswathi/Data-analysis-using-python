{
  "nbformat": 4,
  "nbformat_minor": 0,
  "metadata": {
    "colab": {
      "provenance": [],
      "authorship_tag": "ABX9TyOTtkN2T37VfTMwAnCb4I9x",
      "include_colab_link": true
    },
    "kernelspec": {
      "name": "python3",
      "display_name": "Python 3"
    },
    "language_info": {
      "name": "python"
    }
  },
  "cells": [
    {
      "cell_type": "markdown",
      "metadata": {
        "id": "view-in-github",
        "colab_type": "text"
      },
      "source": [
        "<a href=\"https://colab.research.google.com/github/Rupa-saraswathi/Data-analysis-using-python/blob/main/DAY5_HW_.ipynb\" target=\"_parent\"><img src=\"https://colab.research.google.com/assets/colab-badge.svg\" alt=\"Open In Colab\"/></a>"
      ]
    },
    {
      "cell_type": "code",
      "execution_count": null,
      "metadata": {
        "id": "wwgsC0ad4Emq",
        "colab": {
          "base_uri": "https://localhost:8080/"
        },
        "outputId": "d34ad348-b8f1-48bb-a761-e1f1bd8e9cb6"
      },
      "outputs": [
        {
          "output_type": "stream",
          "name": "stdout",
          "text": [
            "Requirement already satisfied: requests in /usr/local/lib/python3.10/dist-packages (2.31.0)\n",
            "Requirement already satisfied: charset-normalizer<4,>=2 in /usr/local/lib/python3.10/dist-packages (from requests) (3.3.2)\n",
            "Requirement already satisfied: idna<4,>=2.5 in /usr/local/lib/python3.10/dist-packages (from requests) (3.6)\n",
            "Requirement already satisfied: urllib3<3,>=1.21.1 in /usr/local/lib/python3.10/dist-packages (from requests) (2.0.7)\n",
            "Requirement already satisfied: certifi>=2017.4.17 in /usr/local/lib/python3.10/dist-packages (from requests) (2024.2.2)\n"
          ]
        }
      ],
      "source": [
        "!pip install requests\n",
        "import requests as rs\n",
        "import json"
      ]
    },
    {
      "cell_type": "code",
      "source": [
        "import requests\n",
        "\n",
        "url = 'https://sandbox-api.coinmarketcap.com/v1/cryptocurrency/listings/latest'\n",
        "parameters = {\n",
        "    'start': '1',\n",
        "    'limit': '5',  # Adjusted limit for demonstration purposes\n",
        "    'convert': 'USD'\n",
        "}\n",
        "headers = {\n",
        "    'Accepts': 'application/json',\n",
        "    'X-CMC_PRO_API_KEY': '583439a8-8a61-42c5-b333-0639ad87200c',\n",
        "}\n",
        "\n",
        "try:\n",
        "    response = requests.get(url, params=parameters, headers=headers)\n",
        "    data = response.json()\n",
        "    print(data)\n",
        "except requests.RequestException as e:\n",
        "    print(e)\n"
      ],
      "metadata": {
        "colab": {
          "base_uri": "https://localhost:8080/"
        },
        "id": "y_CTK7vNRmJJ",
        "outputId": "6bf8b545-1ab8-417a-ccb3-65b96c530036"
      },
      "execution_count": null,
      "outputs": [
        {
          "output_type": "stream",
          "name": "stdout",
          "text": [
            "{'status': {'timestamp': '2024-02-29T07:02:03.565Z', 'error_code': 0, 'error_message': None, 'elapsed': 1, 'credit_count': 1, 'notice': None}, 'data': [{'id': 3114, 'name': 'q5179in722n', 'symbol': 'a6jwjrz0tzq', 'slug': 'rmpsnba0lvb', 'cmc_rank': 4499, 'num_market_pairs': 7076, 'circulating_supply': 3066, 'total_supply': 6015, 'max_supply': 6457, 'infinite_supply': None, 'last_updated': '2024-02-29T07:02:03.564Z', 'date_added': '2024-02-29T07:02:03.564Z', 'tags': ['hnavag6reu6', 'wn2n9xn92y', 'zi2q2xrjgg', 'lyni85brlib', 'nvyvebwa1p', '2wp8o57p7w', 'z4t2npu97d', 'onggh12f99', 'ilj117mh36p', 'sst1b6m1hqp'], 'platform': None, 'self_reported_circulating_supply': None, 'self_reported_market_cap': None, 'quote': {'USD': {'price': 0.38550116598632855, 'volume_24h': 5399, 'volume_change_24h': 0.3384312084601433, 'percent_change_1h': 0.16127669339283912, 'percent_change_24h': 0.7588126350523514, 'percent_change_7d': 0.006786813356178367, 'market_cap': 0.49746331416267364, 'market_cap_dominance': 7844, 'fully_diluted_market_cap': 0.9575432849412477, 'last_updated': '2024-02-29T07:02:03.564Z'}}}, {'id': 1849, 'name': 'osiek1mu9fh', 'symbol': 'fa5x6j61qh9', 'slug': '6ztraco3sl', 'cmc_rank': 5885, 'num_market_pairs': 7639, 'circulating_supply': 5615, 'total_supply': 677, 'max_supply': 8043, 'infinite_supply': None, 'last_updated': '2024-02-29T07:02:03.564Z', 'date_added': '2024-02-29T07:02:03.564Z', 'tags': ['1nuunv73xe8', 's1sxuymrz4', 'js4ml6rpcws', '5vb7k1hxgpp', '6h013c03qx3', 'eoia0spseba', 'kibuekvzwv', 'qur8sht59s', 'bqovctwanec', 'qlsnp87769o'], 'platform': None, 'self_reported_circulating_supply': None, 'self_reported_market_cap': None, 'quote': {'USD': {'price': 0.6011026462920321, 'volume_24h': 2306, 'volume_change_24h': 0.599139479701434, 'percent_change_1h': 0.0029387039375741164, 'percent_change_24h': 0.6772660262661356, 'percent_change_7d': 0.5124898173726786, 'market_cap': 0.5218301619269738, 'market_cap_dominance': 3907, 'fully_diluted_market_cap': 0.43125016239973735, 'last_updated': '2024-02-29T07:02:03.564Z'}}}, {'id': 6083, 'name': 'gev5sa0rejb', 'symbol': 'ga8fptt7d7g', 'slug': 'jri5vlu2i7', 'cmc_rank': 5392, 'num_market_pairs': 3489, 'circulating_supply': 3217, 'total_supply': 694, 'max_supply': 3218, 'infinite_supply': None, 'last_updated': '2024-02-29T07:02:03.564Z', 'date_added': '2024-02-29T07:02:03.564Z', 'tags': ['5v8auewvt9', '6h1riruj6nl', 'uygqezp51ep', 'v977z077oll', 'p8oysuptnsr', 'u9of5q89kie', 'bvkiffe5y8m', 'xet2gpw7rt8', 'bl4pbd5y3np', 'hi9o18brx1'], 'platform': None, 'self_reported_circulating_supply': None, 'self_reported_market_cap': None, 'quote': {'USD': {'price': 0.07866349547371376, 'volume_24h': 246, 'volume_change_24h': 0.08388591144061452, 'percent_change_1h': 0.24050941256525293, 'percent_change_24h': 0.12781668096981647, 'percent_change_7d': 0.44274096772625193, 'market_cap': 0.6584893434720258, 'market_cap_dominance': 5109, 'fully_diluted_market_cap': 0.8487306773079812, 'last_updated': '2024-02-29T07:02:03.564Z'}}}, {'id': 6881, 'name': 'sqbipzab9y', 'symbol': '1mfypzv9dkv', 'slug': 'pmw6b432rbo', 'cmc_rank': 7317, 'num_market_pairs': 8205, 'circulating_supply': 8206, 'total_supply': 1908, 'max_supply': 1165, 'infinite_supply': None, 'last_updated': '2024-02-29T07:02:03.564Z', 'date_added': '2024-02-29T07:02:03.564Z', 'tags': ['uzll3bguupf', 'ryj4hbfkbwt', 'ucvpnllbhu', 'hvsh4t568h', 'bfzvmedvwy9', 'mxynfymbjwn', 'pvdz39zpjvj', '4983dq91dpx', '4zmyw1zuptw', 'z7qm8vbk3g'], 'platform': None, 'self_reported_circulating_supply': None, 'self_reported_market_cap': None, 'quote': {'USD': {'price': 0.45273609970160655, 'volume_24h': 2252, 'volume_change_24h': 0.4756323338968078, 'percent_change_1h': 0.24744504655049449, 'percent_change_24h': 0.49752095051769385, 'percent_change_7d': 0.6547846680529215, 'market_cap': 0.6850461324743058, 'market_cap_dominance': 285, 'fully_diluted_market_cap': 0.4190162137707707, 'last_updated': '2024-02-29T07:02:03.564Z'}}}, {'id': 646, 'name': '7exsfahjwwc', 'symbol': '8dmyxr84jvb', 'slug': 'c2029hf972q', 'cmc_rank': 3014, 'num_market_pairs': 2334, 'circulating_supply': 6610, 'total_supply': 4413, 'max_supply': 5663, 'infinite_supply': None, 'last_updated': '2024-02-29T07:02:03.564Z', 'date_added': '2024-02-29T07:02:03.564Z', 'tags': ['1wxojtsei7', 'qk66ou2re3', 'ur4llrd8cmn', '7b8dn3k1jbf', '3b8bhdb4nwd', 'x2fpgfoevmk', 'ht7zzslmrvu', '3a58zz5lusl', 'htwvbjkzv0o', 'btyuapk1pim'], 'platform': None, 'self_reported_circulating_supply': None, 'self_reported_market_cap': None, 'quote': {'USD': {'price': 0.34494977567882623, 'volume_24h': 8742, 'volume_change_24h': 0.7562376586849537, 'percent_change_1h': 0.765295251104515, 'percent_change_24h': 0.13677813179910792, 'percent_change_7d': 0.1622764809926882, 'market_cap': 0.5644590379842047, 'market_cap_dominance': 6450, 'fully_diluted_market_cap': 0.010985877047840376, 'last_updated': '2024-02-29T07:02:03.564Z'}}}, {'id': 7779, 'name': '4wq8kt3emm', 'symbol': 'agdian0eazo', 'slug': '6ae3z5t1pm', 'cmc_rank': 4497, 'num_market_pairs': 8839, 'circulating_supply': 6098, 'total_supply': 7688, 'max_supply': 4727, 'infinite_supply': None, 'last_updated': '2024-02-29T07:02:03.565Z', 'date_added': '2024-02-29T07:02:03.565Z', 'tags': ['ta3s3n0slmf', 'hfongw9nlxr', '7758x4n7era', 'o8ybssat5q', '8hkx7cfk8g2', 'zwwys12yr8b', '1tq8n1kelor', 'n6qqfo76e0a', 'j58ni9l0fk', '6xin5eyycv'], 'platform': None, 'self_reported_circulating_supply': None, 'self_reported_market_cap': None, 'quote': {'USD': {'price': 0.5918832043700817, 'volume_24h': 868, 'volume_change_24h': 0.052451437739925444, 'percent_change_1h': 0.03117836855180589, 'percent_change_24h': 0.08054961172610087, 'percent_change_7d': 0.13210561252354447, 'market_cap': 0.6098526312564276, 'market_cap_dominance': 3469, 'fully_diluted_market_cap': 0.2833887992201196, 'last_updated': '2024-02-29T07:02:03.565Z'}}}, {'id': 8312, 'name': 'unm0gynn64', 'symbol': 'r3h08ib4knm', 'slug': 'uragb6tpuye', 'cmc_rank': 499, 'num_market_pairs': 2124, 'circulating_supply': 6108, 'total_supply': 45, 'max_supply': 6668, 'infinite_supply': None, 'last_updated': '2024-02-29T07:02:03.565Z', 'date_added': '2024-02-29T07:02:03.565Z', 'tags': ['vxly9uzb5wi', 'axsw1abn1x', 'opn60nqavu', '08xtufipgrxv', 'z8sxigcc5an', '9qullgdffiq', 'ykzihmxmk5', 'z3gmw8qjogk', '70wgbkh7i8p', 'ytvgo894gv9'], 'platform': None, 'self_reported_circulating_supply': None, 'self_reported_market_cap': None, 'quote': {'USD': {'price': 0.9915440359850676, 'volume_24h': 3257, 'volume_change_24h': 0.342262860891128, 'percent_change_1h': 0.2955717218205909, 'percent_change_24h': 0.6364334518318351, 'percent_change_7d': 0.32242211504113594, 'market_cap': 0.33062775654878873, 'market_cap_dominance': 9525, 'fully_diluted_market_cap': 0.7020455695569796, 'last_updated': '2024-02-29T07:02:03.565Z'}}}, {'id': 5415, 'name': '7unv2hwt2wk', 'symbol': '6yfvsbcasrd', 'slug': '9rmtuh7kof9', 'cmc_rank': 994, 'num_market_pairs': 9374, 'circulating_supply': 9395, 'total_supply': 8323, 'max_supply': 3697, 'infinite_supply': None, 'last_updated': '2024-02-29T07:02:03.565Z', 'date_added': '2024-02-29T07:02:03.565Z', 'tags': ['3lm0yz4frhi', 'awgvhogydtr', 'iof0954fp2', 'l5e4f8d3fvd', 'j72fvgl0v5', 'y1ykt0xlarb', 'zjd26ooazd', 'kaji6eea78', '5ay2da1824', 'artx3jq2ik'], 'platform': None, 'self_reported_circulating_supply': None, 'self_reported_market_cap': None, 'quote': {'USD': {'price': 0.7546525784360987, 'volume_24h': 8346, 'volume_change_24h': 0.15372207191042242, 'percent_change_1h': 0.10312305790550935, 'percent_change_24h': 0.9575817324659732, 'percent_change_7d': 0.9568747411096858, 'market_cap': 0.6540644944787475, 'market_cap_dominance': 5547, 'fully_diluted_market_cap': 0.5912844828206052, 'last_updated': '2024-02-29T07:02:03.565Z'}}}, {'id': 95, 'name': 'l6q72ay4y2a', 'symbol': '412irccv5kq', 'slug': 'jlc2eqrr99p', 'cmc_rank': 6841, 'num_market_pairs': 349, 'circulating_supply': 3252, 'total_supply': 325, 'max_supply': 2927, 'infinite_supply': None, 'last_updated': '2024-02-29T07:02:03.565Z', 'date_added': '2024-02-29T07:02:03.565Z', 'tags': ['w1oxwthflk', 'oo0nn9u7h1', 'wvdwins77kb', '8c9dzxjgsuw', '10faerdahmwl', '84f9g5r7t6x', 'x24ymigubb', 'xa5n88bkge', 'nz5w1nqywlh', '1fy7sp555ay'], 'platform': None, 'self_reported_circulating_supply': None, 'self_reported_market_cap': None, 'quote': {'USD': {'price': 0.8536931845750027, 'volume_24h': 8529, 'volume_change_24h': 0.08346165230020519, 'percent_change_1h': 0.705409107531134, 'percent_change_24h': 0.9348845847940093, 'percent_change_7d': 0.7508118878835184, 'market_cap': 0.18162727408089663, 'market_cap_dominance': 8590, 'fully_diluted_market_cap': 0.6808544825085656, 'last_updated': '2024-02-29T07:02:03.565Z'}}}, {'id': 7649, 'name': 'o0j7hwjwqwq', 'symbol': 'j4gpc0vq6z', 'slug': 'e98k2jkopd', 'cmc_rank': 2566, 'num_market_pairs': 7467, 'circulating_supply': 864, 'total_supply': 3006, 'max_supply': 591, 'infinite_supply': None, 'last_updated': '2024-02-29T07:02:03.565Z', 'date_added': '2024-02-29T07:02:03.565Z', 'tags': ['2ubo1e57zcl', 'ksa8p1jlcs', 'yxmu0p4xxa', 'z8wtpu696go', 'dtb5t33vrx9', 'je9thye083j', 'vommwbhufl', 'oz9112tgc8i', 'u2prjg9lgj', 'gzwnv4l04s'], 'platform': None, 'self_reported_circulating_supply': None, 'self_reported_market_cap': None, 'quote': {'USD': {'price': 0.02471359601532419, 'volume_24h': 3662, 'volume_change_24h': 0.2677416947653255, 'percent_change_1h': 0.9282137102738879, 'percent_change_24h': 0.6625266077732972, 'percent_change_7d': 0.11893908421707122, 'market_cap': 0.40268740849442164, 'market_cap_dominance': 9071, 'fully_diluted_market_cap': 0.5628230236275806, 'last_updated': '2024-02-29T07:02:03.565Z'}}}]}\n"
          ]
        }
      ]
    },
    {
      "cell_type": "code",
      "source": [
        "api_key =\" 583439a8-8a61-42c5-b333-0639ad87200c\"\n",
        "url = f\"https://sandbox-api.coinmarketcap.com/v1/cryptocurrency.json?key={api_key}\"\n",
        "response = rs.get(url)\n",
        "data = json.loads(response.text)\n",
        "#data = response.json()\n",
        "print(data)"
      ],
      "metadata": {
        "id": "_AihZ53N4QJb",
        "colab": {
          "base_uri": "https://localhost:8080/"
        },
        "outputId": "a96a7b38-a03b-4e05-ab47-ac97fe0178b2"
      },
      "execution_count": null,
      "outputs": [
        {
          "output_type": "stream",
          "name": "stdout",
          "text": [
            "{'statusCode': 404, 'error': 'Not Found', 'message': 'Not Found'}\n"
          ]
        }
      ]
    },
    {
      "cell_type": "code",
      "source": [
        "print(type(data))"
      ],
      "metadata": {
        "colab": {
          "base_uri": "https://localhost:8080/"
        },
        "id": "LEAlygMNKjh4",
        "outputId": "6c0286b1-1772-4d15-af57-bca31a5e1258"
      },
      "execution_count": null,
      "outputs": [
        {
          "output_type": "stream",
          "name": "stdout",
          "text": [
            "<class 'dict'>\n"
          ]
        }
      ]
    },
    {
      "cell_type": "code",
      "source": [],
      "metadata": {
        "id": "l5f2ttYxKplR"
      },
      "execution_count": null,
      "outputs": []
    },
    {
      "cell_type": "code",
      "source": [
        "import requests as rs\n",
        "url = f\"https://currencyconverter.p.rapidapi.com/availablecurrencies\"\n",
        "X_RapidAPI_Key == \"941bf60721mshf9157d67d16ba37p134c0fjsn90d1bad5304c\"\n",
        "X_RapidAPI_Host == \"currencyconverter.p.rapidapi.com\"\n",
        "response = rs.get(url)\n",
        "data = response .json()\n",
        "print(data)"
      ],
      "metadata": {
        "colab": {
          "base_uri": "https://localhost:8080/",
          "height": 211
        },
        "id": "S9xSkJWAOVlU",
        "outputId": "3873e62c-b221-44ce-90b6-7ee91de1d7bf"
      },
      "execution_count": null,
      "outputs": [
        {
          "output_type": "error",
          "ename": "NameError",
          "evalue": "name 'X_RapidAPI_Key' is not defined",
          "traceback": [
            "\u001b[0;31m---------------------------------------------------------------------------\u001b[0m",
            "\u001b[0;31mNameError\u001b[0m                                 Traceback (most recent call last)",
            "\u001b[0;32m<ipython-input-8-b2fa30edae18>\u001b[0m in \u001b[0;36m<cell line: 3>\u001b[0;34m()\u001b[0m\n\u001b[1;32m      1\u001b[0m \u001b[0;32mimport\u001b[0m \u001b[0mrequests\u001b[0m \u001b[0;32mas\u001b[0m \u001b[0mrs\u001b[0m\u001b[0;34m\u001b[0m\u001b[0;34m\u001b[0m\u001b[0m\n\u001b[1;32m      2\u001b[0m \u001b[0murl\u001b[0m \u001b[0;34m=\u001b[0m \u001b[0;34mf\"https://currencyconverter.p.rapidapi.com/availablecurrencies\"\u001b[0m\u001b[0;34m\u001b[0m\u001b[0;34m\u001b[0m\u001b[0m\n\u001b[0;32m----> 3\u001b[0;31m \u001b[0mX_RapidAPI_Key\u001b[0m \u001b[0;34m==\u001b[0m \u001b[0;34m\"941bf60721mshf9157d67d16ba37p134c0fjsn90d1bad5304c\"\u001b[0m\u001b[0;34m\u001b[0m\u001b[0;34m\u001b[0m\u001b[0m\n\u001b[0m\u001b[1;32m      4\u001b[0m \u001b[0mX_RapidAPI_Host\u001b[0m \u001b[0;34m==\u001b[0m \u001b[0;34m\"currencyconverter.p.rapidapi.com\"\u001b[0m\u001b[0;34m\u001b[0m\u001b[0;34m\u001b[0m\u001b[0m\n\u001b[1;32m      5\u001b[0m \u001b[0mresponse\u001b[0m \u001b[0;34m=\u001b[0m \u001b[0mrs\u001b[0m\u001b[0;34m.\u001b[0m\u001b[0mget\u001b[0m\u001b[0;34m(\u001b[0m\u001b[0murl\u001b[0m\u001b[0;34m)\u001b[0m\u001b[0;34m\u001b[0m\u001b[0;34m\u001b[0m\u001b[0m\n",
            "\u001b[0;31mNameError\u001b[0m: name 'X_RapidAPI_Key' is not defined"
          ]
        }
      ]
    },
    {
      "cell_type": "code",
      "source": [
        "import requests\n",
        "url = \"https://currencyconverter.p.rapidapi.com/availablecurrencies\"\n",
        "\n",
        "headers = {\n",
        "\t\"X-RapidAPI-Key\": \"941bf60721mshf9157d67d16ba37p134c0fjsn90d1bad5304c\",\n",
        "\t\"X-RapidAPI-Host\": \"currencyconverter.p.rapidapi.com\"\n",
        "}\n",
        "\n",
        "response = requests.get(url, headers=headers)\n",
        "\n",
        "print(response.json())"
      ],
      "metadata": {
        "colab": {
          "base_uri": "https://localhost:8080/"
        },
        "id": "SEm8tQLwOVl_",
        "outputId": "5f524bb9-a862-4ab1-d9cc-47a4d5eee003"
      },
      "execution_count": null,
      "outputs": [
        {
          "output_type": "stream",
          "name": "stdout",
          "text": [
            "{'messages': 'The API is unreachable, please contact the API provider', 'info': 'Your Client (working) ---> Gateway (working) ---> API (not working)'}\n"
          ]
        }
      ]
    },
    {
      "cell_type": "code",
      "source": [
        "import requests\n",
        "\n",
        "url = \"https://article-extractor-and-summarizer.p.rapidapi.com/summarize\"\n",
        "\n",
        "querystring = {\"url\":\"https://time.com/6266679/musk-ai-open-letter/\",\"length\":\"3\"}\n",
        "\n",
        "headers = {\n",
        "\t\"X-RapidAPI-Key\": \"941bf60721mshf9157d67d16ba37p134c0fjsn90d1bad5304c\",\n",
        "\t\"X-RapidAPI-Host\": \"article-extractor-and-summarizer.p.rapidapi.com\"\n",
        "}\n",
        "\n",
        "response = requests.get(url, headers=headers, params=querystring)\n",
        "\n",
        "print(response.json())"
      ],
      "metadata": {
        "colab": {
          "base_uri": "https://localhost:8080/"
        },
        "id": "6o2pvjW_vQkT",
        "outputId": "1fcbf132-1af3-4e89-cb08-d937baf4a20e"
      },
      "execution_count": null,
      "outputs": [
        {
          "output_type": "stream",
          "name": "stdout",
          "text": [
            "{'summary': 'The text discusses an open letter signed by numerous tech leaders, including Elon Musk, urging the top artificial intelligence labs to pause the training of new super-powerful AI systems for six months. The letter highlights the risks that recent advances in AI pose to society and humanity, emphasizing the need for careful planning and management of these technologies. Concerns are raised about the lack of control and understanding over increasingly powerful AI systems, with fears that humanity is heading towards catastrophe as an AI arms race intensifies.\\n\\nThe signatories of the letter, which include prominent figures in the tech and AI community, call for a pause in developing large, unpredictable AI models and advocate for safety research during this period. The goal is to establish shared safety protocols for advanced AI design and development that are rigorously audited and overseen by independent experts. The letter emphasizes the importance of not delegating decisions about AI development to unelected tech leaders and stresses the need to address the risks associated with AI systems that even their creators may not fully comprehend.\\n\\nThe letter concludes with a call to slow down the development of AI systems to allow society to adapt and focus on alternative AGI architectures that are safe and verifiable. The signatories express a sense of responsibility to speak out against the rapid advancement of AI technologies and advocate for a more cautious approach to ensure the safety and well-being of society. The text highlights the need for a collective effort to address the risks posed by AI and emphasizes the importance of thoughtful planning and management in the development of these powerful technologies.'}\n"
          ]
        }
      ]
    },
    {
      "cell_type": "code",
      "source": [
        "import requests\n",
        "\n",
        "url = \"https://article-extractor-and-summarizer.p.rapidapi.com/summarize\"\n",
        "\n",
        "querystring = {\"url\":\"https://www.geeksforgeeks.org/dbms/\",\"length\":\"3\"}\n",
        "\n",
        "headers = {\n",
        "\t\"X-RapidAPI-Key\": \"941bf60721mshf9157d67d16ba37p134c0fjsn90d1bad5304c\",\n",
        "\t\"X-RapidAPI-Host\": \"article-extractor-and-summarizer.p.rapidapi.com\"\n",
        "}\n",
        "\n",
        "response = requests.get(url, headers=headers, params=querystring)\n",
        "\n",
        "print(response.json())"
      ],
      "metadata": {
        "colab": {
          "base_uri": "https://localhost:8080/"
        },
        "id": "ApfxX4Duvl4s",
        "outputId": "1729b867-2de6-41a1-8dc7-c057a251f106"
      },
      "execution_count": null,
      "outputs": [
        {
          "output_type": "stream",
          "name": "stdout",
          "text": [
            "{'summary': 'The text provides a comprehensive overview of various topics related to database management systems (DBMS), including indexing, file organization, advanced topics, SQL tutorials, DBMS practice questions, advantages of DBMS, and frequently asked questions (FAQs) on DBMS. It covers topics such as indexing types, B-trees, B+ trees, file organization, RAID, query optimization, data warehousing, data mining, distributed database systems, database security, and more. The text also highlights the importance of learning DBMS for organizing and managing data, ensuring data security, improving decision-making, and maintaining consistency in operations.\\n\\nThe FAQs section addresses common questions about databases, different languages in DBMS (DDL, DML, DCL, TCL), ACID properties in DBMS (Atomicity, Consistency, Isolation, Durability), and the advantages of DBMS. It explains the concept of a database as a collection of organized data, the role of different languages in defining and manipulating data, the importance of ACID properties in ensuring data integrity, and the benefits of DBMS in terms of data sharing, integrity, data independence, and data security. The text also provides quick links to various resources for further learning and practice in DBMS.\\n\\nOverall, the text serves as a valuable resource for individuals looking to enhance their understanding of DBMS concepts, including indexing, file organization, advanced topics, SQL tutorials, and common FAQs. It covers a wide range of topics related to database management systems, highlighting the importance of data organization, security, decision-making, and consistency in operations. The text also offers insights into the advantages of DBMS, different languages used in DBMS, ACID properties, and practical applications of DBMS in various domains.'}\n"
          ]
        }
      ]
    }
  ]
}